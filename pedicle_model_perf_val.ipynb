{
 "cells": [
  {
   "cell_type": "code",
   "execution_count": null,
   "id": "616a6f9d",
   "metadata": {},
   "outputs": [],
   "source": [
    "import torch\n",
    "from matplotlib import pyplot as plt\n",
    "import numpy as np\n",
    "import cv2"
   ]
  },
  {
   "cell_type": "code",
   "execution_count": null,
   "id": "9ddda8dc",
   "metadata": {},
   "outputs": [],
   "source": [
    "import torch\n",
    "print(torch.__version__)\n",
    "print(torch.cuda.is_available())"
   ]
  },
  {
   "cell_type": "code",
   "execution_count": null,
   "id": "7e7348d8",
   "metadata": {},
   "outputs": [],
   "source": [
    "import mmcv\n",
    "# Check MMRotate installation\n",
    "import mmrotate\n",
    "print(mmrotate.__version__)\n",
    "\n",
    "# Check MMDetection installation\n",
    "import mmdet\n",
    "print(mmdet.__version__)\n",
    "\n",
    "# Check mmcv installation\n",
    "from mmcv.ops import get_compiling_cuda_version, get_compiler_version\n",
    "print(get_compiling_cuda_version())\n",
    "print(get_compiler_version())"
   ]
  },
  {
   "cell_type": "code",
   "execution_count": null,
   "id": "c9330194",
   "metadata": {},
   "outputs": [],
   "source": [
    "from mmrotate.registry import DATASETS\n",
    "from mmrotate.datasets.dota import DOTADataset\n",
    "\n",
    "\n",
    "@DATASETS.register_module()\n",
    "class PEdataset(DOTADataset):\n",
    "    \"\"\"Pedicle for detection.\"\"\"\n",
    "    METAINFO = {\n",
    "        'classes':\n",
    "        ('pedicle',),\n",
    "        # palette is a list of color tuples, which is used for visualization.\n",
    "        'palette': [(165, 42, 42)]\n",
    "    }"
   ]
  },
  {
   "cell_type": "code",
   "execution_count": null,
   "id": "75399bdd",
   "metadata": {},
   "outputs": [],
   "source": [
    "from mmengine import Config\n",
    "cfg = Config.fromfile('mmrotate/configs/redet/redet-le90_re50_refpn_1x_dota.py')"
   ]
  },
  {
   "cell_type": "code",
   "execution_count": null,
   "id": "98d08202",
   "metadata": {},
   "outputs": [],
   "source": [
    "# Modify dataset type and path\n",
    "cfg.dataset_type = 'PEdataset'\n",
    "cfg.data_root = '.'\n",
    "\n",
    "\n",
    "cfg.train_dataloader.dataset.type = 'PEdataset'\n",
    "cfg.train_dataloader.dataset.data_root = './pd_val'\n",
    "cfg.train_dataloader.dataset.ann_file = 'tr_pd_label'\n",
    "cfg.train_dataloader.dataset.data_prefix.img_path = 'tr_pd_img'\n",
    "cfg.train_dataloader.batch_size=2\n",
    "cfg.train_dataloader.num_workers=0\n",
    "cfg.train_dataloader.persistent_workers=False\n",
    "\n",
    "\n",
    "cfg.val_dataloader.dataset.type = 'PEdataset'\n",
    "# cfg.val_dataloader.dataset.data_root = 'pedicle_data/'\n",
    "cfg.val_dataloader.dataset.data_root = './pd_val'\n",
    "cfg.val_dataloader.dataset.ann_file = 'val_pd_label'\n",
    "cfg.val_dataloader.dataset.data_prefix.img_path = 'val_pd_img'\n",
    "cfg.val_dataloader.batch_size=10 # Increasing the batch size for faster validation\n",
    "cfg.val_dataloader.num_workers=0\n",
    "cfg.val_dataloader.persistent_workers=False\n",
    "\n",
    "\n",
    "# AdamW optimizer\n",
    "cfg.optim_wrapper = dict(\n",
    "    clip_grad=dict(max_norm=25, norm_type=2),\n",
    "    optimizer=dict(lr=1e-7,type='AdamW', weight_decay=1e-5),\n",
    "    type='OptimWrapper')\n",
    "\n",
    "\n",
    "cfg.test_dataloader = cfg.val_dataloader\n",
    "\n",
    "cfg.model.roi_head.bbox_head[0].num_classes = 1\n",
    "cfg.model.roi_head.bbox_head[1].num_classes = 1\n",
    "\n",
    "# cfg.model.backbone.init_cfg.checkpoint='redet_re50_fpn_1x_dota_ms_rr_le90-fc9217b5.pth'\n",
    "cfg.model.backbone.init_cfg.checkpoint='re_resnet50_c8_batch256-25b16846.pth'    # 초기 모델 적용, 학습을 새로 시작할 때\n",
    "cfg.load_from = 'PD_ReDet_RT4_LR5e-7_G7184_D7487_R0.961_A0.905_e23.pth'\n",
    "\n",
    "cfg.work_dir = './pd_val'\n",
    "\n",
    "cfg.train_cfg.max_epochs = 1\n",
    "cfg.train_cfg.val_interval = 1\n",
    "\n",
    "cfg.default_hooks.logger.interval = 1\n",
    "\n",
    "# Set seed to facilitate reproducing the result\n",
    "cfg['randomness'] = dict(seed=3407)\n",
    "\n",
    "print(f'Config:\\n{cfg.pretty_text}')"
   ]
  },
  {
   "cell_type": "code",
   "execution_count": null,
   "id": "5e03bb42",
   "metadata": {},
   "outputs": [],
   "source": [
    "from mmengine.runner import Runner\n",
    "\n",
    "runner = Runner.from_cfg(cfg)"
   ]
  },
  {
   "cell_type": "code",
   "execution_count": null,
   "id": "d32bdc0a",
   "metadata": {},
   "outputs": [],
   "source": [
    "runner.val()"
   ]
  }
 ],
 "metadata": {
  "kernelspec": {
   "display_name": "Python 3 (ipykernel)",
   "language": "python",
   "name": "python3"
  },
  "language_info": {
   "codemirror_mode": {
    "name": "ipython",
    "version": 3
   },
   "file_extension": ".py",
   "mimetype": "text/x-python",
   "name": "python",
   "nbconvert_exporter": "python",
   "pygments_lexer": "ipython3",
   "version": "3.8.20"
  }
 },
 "nbformat": 4,
 "nbformat_minor": 5
}
