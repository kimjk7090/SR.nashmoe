{
 "cells": [
  {
   "cell_type": "code",
   "execution_count": null,
   "id": "616a6f9d",
   "metadata": {},
   "outputs": [],
   "source": [
    "import torch\n",
    "from matplotlib import pyplot as plt\n",
    "import numpy as np\n",
    "import cv2"
   ]
  },
  {
   "cell_type": "code",
   "execution_count": null,
   "id": "9ddda8dc",
   "metadata": {},
   "outputs": [],
   "source": [
    "import torch\n",
    "print(torch.__version__)\n",
    "print(torch.cuda.is_available())\n",
    "DEVICE = torch.device('cuda:0')"
   ]
  },
  {
   "cell_type": "code",
   "execution_count": null,
   "id": "7e7348d8",
   "metadata": {},
   "outputs": [],
   "source": [
    "import mmcv\n",
    "print(mmcv.__version__)\n",
    "# Check MMRotate installation\n",
    "import mmrotate\n",
    "print(mmrotate.__version__)\n",
    "\n",
    "# Check MMDetection installation\n",
    "import mmdet\n",
    "print(mmdet.__version__)\n",
    "\n",
    "# Check mmcv installation\n",
    "from mmcv.ops import get_compiling_cuda_version, get_compiler_version\n",
    "print(get_compiling_cuda_version())\n",
    "print(get_compiler_version())"
   ]
  },
  {
   "cell_type": "code",
   "execution_count": null,
   "id": "276e6119",
   "metadata": {},
   "outputs": [],
   "source": [
    "from mmrotate.registry import DATASETS\n",
    "from mmrotate.datasets.dota import DOTADataset\n",
    "\n",
    "\n",
    "@DATASETS.register_module()\n",
    "class VBdataset(DOTADataset):\n",
    "    \"\"\"Vertabrea for detection.\"\"\"\n",
    "    METAINFO = {\n",
    "        'classes':\n",
    "        ('VB',),\n",
    "        'palette': [(165, 42, 42)]\n",
    "    }"
   ]
  },
  {
   "cell_type": "code",
   "execution_count": null,
   "id": "75399bdd",
   "metadata": {},
   "outputs": [],
   "source": [
    "from mmengine import Config\n",
    "cfg = Config.fromfile('mmrotate/configs/redet/redet-le90_re50_refpn_1x_dota.py')"
   ]
  },
  {
   "cell_type": "code",
   "execution_count": null,
   "id": "a7fd0ca7",
   "metadata": {
    "scrolled": false
   },
   "outputs": [],
   "source": [
    "print(f'Config:\\n{cfg.pretty_text}')"
   ]
  },
  {
   "cell_type": "code",
   "execution_count": null,
   "id": "98d08202",
   "metadata": {
    "scrolled": true
   },
   "outputs": [],
   "source": [
    "# Since we use only one GPU, BN is used instead of SyncBN\n",
    "# cfg.norm_cfg = dict(type='BN', requires_grad=True)\n",
    "\n",
    "\n",
    "\n",
    "# Modify dataset type and path\n",
    "cfg.dataset_type = 'VBdataset'\n",
    "cfg.data_root = 'train_data/train_data_12_797_ROI/'\n",
    "\n",
    "cfg.train_dataloader.dataset.type = 'VBdataset'\n",
    "cfg.train_dataloader.dataset.data_root ='train_data/train_data_12_797_ROI/'\n",
    "cfg.train_dataloader.dataset.ann_file = 'train/'\n",
    "cfg.train_dataloader.dataset.data_prefix.img_path = 'images/'\n",
    "cfg.train_dataloader.num_workers=0\n",
    "cfg.train_dataloader.persistent_workers=False\n",
    "\n",
    "cfg.val_dataloader.dataset.type = 'VBdataset'\n",
    "cfg.val_dataloader.dataset.data_root = 'train_data/train_data_12_797_ROI/'\n",
    "cfg.val_dataloader.dataset.ann_file = 'val/'\n",
    "cfg.val_dataloader.dataset.data_prefix.img_path = 'images/'\n",
    "cfg.val_dataloader.num_workers=0\n",
    "cfg.val_dataloader.persistent_workers=False\n",
    "\n",
    "cfg.test_dataloader = cfg.val_dataloader\n",
    "\n",
    "# modify num classes of the model in box head\n",
    "cfg.model.roi_head.bbox_head[0].num_classes = 1\n",
    "cfg.model.roi_head.bbox_head[1].num_classes = 1\n",
    "\n",
    "cfg.model.backbone.init_cfg.checkpoint='re_resnet50_c8_batch256-25b16846.pth'\n",
    "# # cfg.load_from = 'download_models/redet_re50_fpn_1x_dota_ms_rr_le90-fc9217b5.pth'\n",
    "\n",
    "# cfg.load_from = 'redet_re50_fpn_1x_dota_ms_rr_le90-fc9217b5.pth'\n",
    "cfg.load_from =  None\n",
    "# cfg.resume_from ='tutorial_exps11/latest.pth'\n",
    "# Set up working dir to save files and logs.\n",
    "cfg.work_dir = './run/train/redet_scol'\n",
    "\n",
    "\n",
    "cfg.optim_wrapper.optimizer.lr = 0.005\n",
    "cfg.optim_wrapper.optimizer.momentum=0.99\n",
    "cfg.param_scheduler[1].gamma = 0.5\n",
    "cfg.param_scheduler[1].end = 50\n",
    "cfg.param_scheduler[1].milestones = [5, 20, 40, 50]\n",
    "\n",
    "cfg.train_cfg.max_epochs = 60\n",
    "cfg.default_hooks.logger.interval = 10\n",
    "\n",
    "# Set seed to facilitate reproducing the result\n",
    "cfg['randomness'] = dict(seed=0)\n",
    "\n",
    "print(f'Config:\\n{cfg.pretty_text}')"
   ]
  },
  {
   "cell_type": "code",
   "execution_count": null,
   "id": "5e03bb42",
   "metadata": {
    "scrolled": false
   },
   "outputs": [],
   "source": [
    "from mmengine.runner import Runner\n",
    "\n",
    "runner = Runner.from_cfg(cfg)"
   ]
  },
  {
   "cell_type": "code",
   "execution_count": null,
   "id": "2091b030",
   "metadata": {
    "scrolled": false
   },
   "outputs": [],
   "source": [
    "# start training\n",
    "runner.train()"
   ]
  },
  {
   "cell_type": "code",
   "execution_count": null,
   "id": "f10568a4",
   "metadata": {},
   "outputs": [],
   "source": [
    "runner.test()"
   ]
  }
 ],
 "metadata": {
  "kernelspec": {
   "display_name": "Python 3 (ipykernel)",
   "language": "python",
   "name": "python3"
  },
  "language_info": {
   "codemirror_mode": {
    "name": "ipython",
    "version": 3
   },
   "file_extension": ".py",
   "mimetype": "text/x-python",
   "name": "python",
   "nbconvert_exporter": "python",
   "pygments_lexer": "ipython3",
   "version": "3.8.20"
  }
 },
 "nbformat": 4,
 "nbformat_minor": 5
}
